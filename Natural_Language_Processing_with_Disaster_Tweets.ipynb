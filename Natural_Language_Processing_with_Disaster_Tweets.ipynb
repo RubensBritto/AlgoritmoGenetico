{
  "cells": [
    {
      "cell_type": "markdown",
      "metadata": {
        "id": "view-in-github",
        "colab_type": "text"
      },
      "source": [
        "<a href=\"https://colab.research.google.com/github/RubensBritto/AlgoritmoGenetico/blob/main/Natural_Language_Processing_with_Disaster_Tweets.ipynb\" target=\"_parent\"><img src=\"https://colab.research.google.com/assets/colab-badge.svg\" alt=\"Open In Colab\"/></a>"
      ]
    },
    {
      "cell_type": "markdown",
      "metadata": {
        "id": "KWnavNtx3NA5"
      },
      "source": [
        "# IMPORTS"
      ]
    },
    {
      "cell_type": "code",
      "execution_count": null,
      "metadata": {
        "id": "WJBkBvmD2aiz",
        "colab": {
          "base_uri": "https://localhost:8080/"
        },
        "outputId": "55ecf64d-b273-4a85-8b7b-dc860a4f124a"
      },
      "outputs": [
        {
          "output_type": "stream",
          "name": "stdout",
          "text": [
            "[nltk_data] Downloading package punkt to /root/nltk_data...\n",
            "[nltk_data]   Unzipping tokenizers/punkt.zip.\n"
          ]
        }
      ],
      "source": [
        "import pandas as pd\n",
        "import numpy as np\n",
        "import re\n",
        "import string\n",
        "import nltk\n",
        "nltk.download('punkt')\n",
        "from nltk.tokenize import word_tokenize\n",
        "from nltk.corpus import stopwords\n",
        "from sklearn.feature_extraction.text import CountVectorizer\n",
        "from nltk.stem.lancaster import LancasterStemmer\n",
        "from sklearn.feature_extraction.text import TfidfVectorizer\n",
        "from sklearn.model_selection import train_test_split\n",
        "\n",
        "# importing models\n",
        "from sklearn.linear_model import LogisticRegression\n",
        "from sklearn.ensemble import RandomForestClassifier\n",
        "from sklearn.svm import SVC\n",
        "from sklearn.neighbors import KNeighborsClassifier\n",
        "from sklearn.naive_bayes import MultinomialNB, BernoulliNB, GaussianNB\n",
        "\n",
        "# importing metrics\n",
        "from sklearn.metrics import accuracy_score\n",
        "from sklearn.metrics import classification_report\n",
        "from sklearn.metrics import confusion_matrix"
      ]
    },
    {
      "cell_type": "markdown",
      "metadata": {
        "id": "aKRqi13u3Q9_"
      },
      "source": [
        "# Download Dataset"
      ]
    },
    {
      "cell_type": "code",
      "execution_count": null,
      "metadata": {
        "id": "GcWdhU2t3YD-",
        "colab": {
          "base_uri": "https://localhost:8080/"
        },
        "outputId": "e4ddee4d-7ad1-417a-ab91-4116a538fe8a"
      },
      "outputs": [
        {
          "output_type": "stream",
          "name": "stdout",
          "text": [
            "         id keyword location  \\\n",
            "0         1     NaN      NaN   \n",
            "1         4     NaN      NaN   \n",
            "2         5     NaN      NaN   \n",
            "3         6     NaN      NaN   \n",
            "4         7     NaN      NaN   \n",
            "...     ...     ...      ...   \n",
            "7608  10869     NaN      NaN   \n",
            "7609  10870     NaN      NaN   \n",
            "7610  10871     NaN      NaN   \n",
            "7611  10872     NaN      NaN   \n",
            "7612  10873     NaN      NaN   \n",
            "\n",
            "                                                   text  target  \n",
            "0     Our Deeds are the Reason of this #earthquake M...       1  \n",
            "1                Forest fire near La Ronge Sask. Canada       1  \n",
            "2     All residents asked to 'shelter in place' are ...       1  \n",
            "3     13,000 people receive #wildfires evacuation or...       1  \n",
            "4     Just got sent this photo from Ruby #Alaska as ...       1  \n",
            "...                                                 ...     ...  \n",
            "7608  Two giant cranes holding a bridge collapse int...       1  \n",
            "7609  @aria_ahrary @TheTawniest The out of control w...       1  \n",
            "7610  M1.94 [01:04 UTC]?5km S of Volcano Hawaii. htt...       1  \n",
            "7611  Police investigating after an e-bike collided ...       1  \n",
            "7612  The Latest: More Homes Razed by Northern Calif...       1  \n",
            "\n",
            "[7613 rows x 5 columns]\n"
          ]
        }
      ],
      "source": [
        "url_train = 'https://raw.githubusercontent.com/joaovictorferro/Natural-Language-Processing-with-Disaster-Tweets/main/train.csv'\n",
        "url_test = 'https://raw.githubusercontent.com/joaovictorferro/Natural-Language-Processing-with-Disaster-Tweets/main/test.csv'\n",
        "url_sublime = 'https://raw.githubusercontent.com/joaovictorferro/Natural-Language-Processing-with-Disaster-Tweets/main/sample_submission.csv'\n",
        "data = pd.read_csv (url_train)\n",
        "data_test = pd.read_csv(url_test)\n",
        "sublime = pd.read_csv(url_sublime)\n",
        "print(data)"
      ]
    },
    {
      "cell_type": "markdown",
      "metadata": {
        "id": "jpHbbB-64FJm"
      },
      "source": [
        "# Clean Dataset"
      ]
    },
    {
      "cell_type": "markdown",
      "metadata": {
        "id": "6maHDnkLF6kF"
      },
      "source": [
        "## Remove Collum Location"
      ]
    },
    {
      "cell_type": "code",
      "execution_count": null,
      "metadata": {
        "id": "EWxHEPFpGEEC",
        "colab": {
          "base_uri": "https://localhost:8080/"
        },
        "outputId": "4262bbb1-4a3b-4470-db3e-c8a3cb0ab14e"
      },
      "outputs": [
        {
          "output_type": "stream",
          "name": "stdout",
          "text": [
            "         id                                               text  target\n",
            "0         1  Our Deeds are the Reason of this #earthquake M...       1\n",
            "1         4             Forest fire near La Ronge Sask. Canada       1\n",
            "2         5  All residents asked to 'shelter in place' are ...       1\n",
            "3         6  13,000 people receive #wildfires evacuation or...       1\n",
            "4         7  Just got sent this photo from Ruby #Alaska as ...       1\n",
            "...     ...                                                ...     ...\n",
            "7608  10869  Two giant cranes holding a bridge collapse int...       1\n",
            "7609  10870  @aria_ahrary @TheTawniest The out of control w...       1\n",
            "7610  10871  M1.94 [01:04 UTC]?5km S of Volcano Hawaii. htt...       1\n",
            "7611  10872  Police investigating after an e-bike collided ...       1\n",
            "7612  10873  The Latest: More Homes Razed by Northern Calif...       1\n",
            "\n",
            "[7613 rows x 3 columns]\n"
          ]
        }
      ],
      "source": [
        "data = data.drop(['location','keyword'],axis=1)\n",
        "data_test = data_test.drop(['location','keyword'],axis=1)\n",
        "print(data)"
      ]
    },
    {
      "cell_type": "markdown",
      "metadata": {
        "id": "18u7RNL04W2J"
      },
      "source": [
        "## Remove rows with NAN"
      ]
    },
    {
      "cell_type": "code",
      "execution_count": null,
      "metadata": {
        "id": "RctS20tV4EO4",
        "colab": {
          "base_uri": "https://localhost:8080/"
        },
        "outputId": "c1ea74fc-b0da-41f6-8f04-6b65a1d4f2a0"
      },
      "outputs": [
        {
          "output_type": "stream",
          "name": "stdout",
          "text": [
            "         id                                               text  target\n",
            "0         1  Our Deeds are the Reason of this #earthquake M...       1\n",
            "1         4             Forest fire near La Ronge Sask. Canada       1\n",
            "2         5  All residents asked to 'shelter in place' are ...       1\n",
            "3         6  13,000 people receive #wildfires evacuation or...       1\n",
            "4         7  Just got sent this photo from Ruby #Alaska as ...       1\n",
            "...     ...                                                ...     ...\n",
            "7608  10869  Two giant cranes holding a bridge collapse int...       1\n",
            "7609  10870  @aria_ahrary @TheTawniest The out of control w...       1\n",
            "7610  10871  M1.94 [01:04 UTC]?5km S of Volcano Hawaii. htt...       1\n",
            "7611  10872  Police investigating after an e-bike collided ...       1\n",
            "7612  10873  The Latest: More Homes Razed by Northern Calif...       1\n",
            "\n",
            "[7613 rows x 3 columns]\n"
          ]
        }
      ],
      "source": [
        "data = data.dropna(subset = ['text'])\n",
        "data_test = data_test.dropna(subset = ['text'])\n",
        "print(data)"
      ]
    },
    {
      "cell_type": "markdown",
      "metadata": {
        "id": "AZ3Jac9M5V5y"
      },
      "source": [
        "## Remove character special and URLs"
      ]
    },
    {
      "cell_type": "code",
      "execution_count": null,
      "metadata": {
        "id": "riNPEmS_Btqr"
      },
      "outputs": [],
      "source": [
        "def modific(text):\n",
        "  new_string =  re.sub('http[s]?://(?:[a-zA-Z]|[0-9]|[$-_@.&+]|[!*\\(\\),]|(?:%[0-9a-fA-F][0-9a-fA-F]))+', ' ', text, flags=re.MULTILINE) #remove URL\n",
        "  new_string = re.sub(r'@|#[a-zA-Z0-9]*',' ', new_string) #remove the word if start @\n",
        "  new_string = re.sub(r'[0-9]+', ' ', new_string)\n",
        "  new_string = new_string.lower()\n",
        "  new_string  = re.sub(r\"[^a-zA-Z0-9]\",\" \",new_string) #remove character special\n",
        "  return new_string"
      ]
    },
    {
      "cell_type": "code",
      "execution_count": null,
      "metadata": {
        "id": "Ifm-UHfb5m4y",
        "colab": {
          "base_uri": "https://localhost:8080/"
        },
        "outputId": "7814eb0e-053b-4f5a-8417-77f47b7722bf"
      },
      "outputs": [
        {
          "output_type": "stream",
          "name": "stderr",
          "text": [
            "/usr/local/lib/python3.7/dist-packages/ipykernel_launcher.py:2: SettingWithCopyWarning: \n",
            "A value is trying to be set on a copy of a slice from a DataFrame\n",
            "\n",
            "See the caveats in the documentation: https://pandas.pydata.org/pandas-docs/stable/user_guide/indexing.html#returning-a-view-versus-a-copy\n",
            "  \n",
            "/usr/local/lib/python3.7/dist-packages/ipykernel_launcher.py:5: SettingWithCopyWarning: \n",
            "A value is trying to be set on a copy of a slice from a DataFrame\n",
            "\n",
            "See the caveats in the documentation: https://pandas.pydata.org/pandas-docs/stable/user_guide/indexing.html#returning-a-view-versus-a-copy\n",
            "  \"\"\"\n"
          ]
        }
      ],
      "source": [
        "for i,row in data.iterrows():\n",
        "  data['text'][i] =  modific(str(data['text'][i]))\n",
        "\n",
        "for i, row in data_test.iterrows():\n",
        "  data_test['text'][i] =  modific(str(data_test['text'][i]))"
      ]
    },
    {
      "cell_type": "markdown",
      "metadata": {
        "id": "PZFixEN19rS4"
      },
      "source": [
        "## Stemming"
      ]
    },
    {
      "cell_type": "code",
      "execution_count": null,
      "metadata": {
        "id": "pcEAixyBVmKK"
      },
      "outputs": [],
      "source": [
        "from posixpath import join\n",
        "def stemming(text):\n",
        "  new_string = word_tokenize(text)\n",
        "  stemminList = []\n",
        "  for word in new_string: \n",
        "    stemminList.append(stemmer.stem(word))\n",
        "    stemminList.append(' ')\n",
        "  return ''.join(stemminList)"
      ]
    },
    {
      "cell_type": "code",
      "execution_count": null,
      "metadata": {
        "id": "aCTkHS17VASi",
        "colab": {
          "base_uri": "https://localhost:8080/"
        },
        "outputId": "4ddce9fa-0bae-439a-94b9-8e2cd1af9929"
      },
      "outputs": [
        {
          "output_type": "stream",
          "name": "stderr",
          "text": [
            "/usr/local/lib/python3.7/dist-packages/ipykernel_launcher.py:3: SettingWithCopyWarning: \n",
            "A value is trying to be set on a copy of a slice from a DataFrame\n",
            "\n",
            "See the caveats in the documentation: https://pandas.pydata.org/pandas-docs/stable/user_guide/indexing.html#returning-a-view-versus-a-copy\n",
            "  This is separate from the ipykernel package so we can avoid doing imports until\n",
            "/usr/local/lib/python3.7/dist-packages/ipykernel_launcher.py:6: SettingWithCopyWarning: \n",
            "A value is trying to be set on a copy of a slice from a DataFrame\n",
            "\n",
            "See the caveats in the documentation: https://pandas.pydata.org/pandas-docs/stable/user_guide/indexing.html#returning-a-view-versus-a-copy\n",
            "  \n"
          ]
        }
      ],
      "source": [
        "stemmer = LancasterStemmer()\n",
        "for i,row in data.iterrows():\n",
        "  data['text'][i] =  stemming(str(data['text'][i]))\n",
        "\n",
        "for i,row in data_test.iterrows():\n",
        "  data_test['text'][i] =  stemming(str(data_test['text'][i]))"
      ]
    },
    {
      "cell_type": "markdown",
      "metadata": {
        "id": "H2KnUYUmQvoC"
      },
      "source": [
        "# Countervectorizer"
      ]
    },
    {
      "cell_type": "code",
      "execution_count": null,
      "metadata": {
        "id": "6eWNZwc5Qi-K"
      },
      "outputs": [],
      "source": [
        "# X = data['text']\n",
        "# Y = data['target']"
      ]
    },
    {
      "cell_type": "code",
      "execution_count": null,
      "metadata": {
        "id": "WlMuIJaXPvit"
      },
      "outputs": [],
      "source": [
        "# X_train, X_test, y_train, y_test = train_test_split(X, Y, test_size= 0.3, random_state= 42)"
      ]
    },
    {
      "cell_type": "code",
      "execution_count": null,
      "metadata": {
        "id": "795m_RNoJlzj"
      },
      "outputs": [],
      "source": [
        "cv = CountVectorizer(stop_words='english')\n",
        "Data_train = cv.fit_transform(data['text']).toarray()\n",
        "Data_test = cv.transform(data_test['text']).toarray()\n"
      ]
    },
    {
      "cell_type": "code",
      "execution_count": null,
      "metadata": {
        "id": "x_4Vdey_W6mw"
      },
      "outputs": [],
      "source": [
        "y_train = np.array(data['target'])\n",
        "y_test = np.array(sublime['target'])"
      ]
    },
    {
      "cell_type": "markdown",
      "metadata": {
        "id": "HtlGKmUI_VmL"
      },
      "source": [
        "## Regression Logistic with Counter Vectorizer"
      ]
    },
    {
      "cell_type": "code",
      "execution_count": null,
      "metadata": {
        "id": "4O0u2i0K_exi"
      },
      "outputs": [],
      "source": [
        "models = [LogisticRegression(), RandomForestClassifier(), SVC(), KNeighborsClassifier(), \n",
        "          MultinomialNB(), BernoulliNB()]\n",
        "model_names = ['Logistic Regression', 'Random Forest', 'SVM', 'KNN', 'Multinomial NB', 'Bernoulli NB']"
      ]
    },
    {
      "cell_type": "code",
      "execution_count": null,
      "metadata": {
        "colab": {
          "base_uri": "https://localhost:8080/"
        },
        "id": "VpQ0HsHnX5fs",
        "outputId": "b3eb9ad5-865e-42c3-8636-4658ccb46d5f"
      },
      "outputs": [
        {
          "output_type": "stream",
          "name": "stdout",
          "text": [
            "For Logistic Regression:\n",
            "Accuracy: 63.32%\n",
            "For Random Forest:\n",
            "Accuracy: 62.64%\n",
            "For SVM:\n",
            "Accuracy: 69.08%\n",
            "For KNN:\n",
            "Accuracy: 36.96%\n",
            "For Multinomial NB:\n",
            "Accuracy: 61.26%\n",
            "For Bernoulli NB:\n",
            "Accuracy: 65.31%\n"
          ]
        }
      ],
      "source": [
        "for model, model_name in zip(models, model_names):\n",
        "    model_instance = model\n",
        "    model_instance.fit(Data_train, y_train) # Fitting models \n",
        "    print(f'For {model_name}:')\n",
        "    pred = model_instance.predict(Data_test) # Predictions on validation set\n",
        "    print(f'Accuracy: {np.round(accuracy_score(y_test, pred) * 100, 2)}%')"
      ]
    },
    {
      "cell_type": "markdown",
      "metadata": {
        "id": "DXcCxhAb997x"
      },
      "source": [
        "# TF-IDF"
      ]
    },
    {
      "cell_type": "code",
      "execution_count": null,
      "metadata": {
        "id": "IFKz4bX7-A6a"
      },
      "outputs": [],
      "source": [
        "# TF-IDF in data_train\n",
        "cv_tfidf = TfidfVectorizer(stop_words=\"english\")\n",
        "Data_X_train_tfidf = cv_tfidf.fit_transform(data['text']).toarray()\n",
        "Data_X_test_tfidf = cv_tfidf.transform(data_test['text']).toarray()"
      ]
    },
    {
      "cell_type": "code",
      "execution_count": null,
      "metadata": {
        "id": "j1C3uM-TVHyB",
        "colab": {
          "base_uri": "https://localhost:8080/"
        },
        "outputId": "cd19e40a-2803-42b0-f971-fb289e934117"
      },
      "outputs": [
        {
          "output_type": "stream",
          "name": "stdout",
          "text": [
            "For Logistic Regression:\n",
            "Accuracy: 65.92%\n",
            "For Random Forest:\n",
            "Accuracy: 61.69%\n",
            "For SVM:\n",
            "Accuracy: 67.97%\n",
            "For KNN:\n",
            "Accuracy: 8.73%\n",
            "For Multinomial NB:\n",
            "Accuracy: 67.21%\n",
            "For Bernoulli NB:\n",
            "Accuracy: 65.31%\n"
          ]
        }
      ],
      "source": [
        "for model, model_name in zip(models, model_names):\n",
        "    model_instance = model\n",
        "    model_instance.fit(Data_X_train_tfidf, y_train) # Fitting models \n",
        "    print(f'For {model_name}:')\n",
        "    pred = model_instance.predict(Data_X_test_tfidf) # Predictions on validation set\n",
        "    print(f'Accuracy: {np.round(accuracy_score(y_test, pred) * 100, 2)}%')"
      ]
    },
    {
      "cell_type": "markdown",
      "metadata": {
        "id": "KOo-waMl8mmq"
      },
      "source": [
        "# Submission"
      ]
    },
    {
      "cell_type": "code",
      "execution_count": null,
      "metadata": {
        "id": "RQrndQJB8oc5"
      },
      "outputs": [],
      "source": [
        "svm = SVC()\n",
        "svm.fit(Data_X_train_tfidf,y_train)\n",
        "predictions = svm.predict(Data_X_test_tfidf) # using trained SVM model to predict outcomes for test dataset"
      ]
    },
    {
      "cell_type": "code",
      "execution_count": null,
      "metadata": {
        "id": "JrxXcCxjRQPU",
        "colab": {
          "base_uri": "https://localhost:8080/",
          "height": 424
        },
        "outputId": "e8bf6829-402f-48da-f10b-a9f2df5d22ae"
      },
      "outputs": [
        {
          "output_type": "execute_result",
          "data": {
            "text/plain": [
              "         id\n",
              "0         0\n",
              "1         2\n",
              "2         3\n",
              "3         9\n",
              "4        11\n",
              "...     ...\n",
              "3258  10861\n",
              "3259  10865\n",
              "3260  10868\n",
              "3261  10874\n",
              "3262  10875\n",
              "\n",
              "[3263 rows x 1 columns]"
            ],
            "text/html": [
              "\n",
              "  <div id=\"df-f3b5771f-0c3a-401c-82dd-21a35cf2f705\">\n",
              "    <div class=\"colab-df-container\">\n",
              "      <div>\n",
              "<style scoped>\n",
              "    .dataframe tbody tr th:only-of-type {\n",
              "        vertical-align: middle;\n",
              "    }\n",
              "\n",
              "    .dataframe tbody tr th {\n",
              "        vertical-align: top;\n",
              "    }\n",
              "\n",
              "    .dataframe thead th {\n",
              "        text-align: right;\n",
              "    }\n",
              "</style>\n",
              "<table border=\"1\" class=\"dataframe\">\n",
              "  <thead>\n",
              "    <tr style=\"text-align: right;\">\n",
              "      <th></th>\n",
              "      <th>id</th>\n",
              "    </tr>\n",
              "  </thead>\n",
              "  <tbody>\n",
              "    <tr>\n",
              "      <th>0</th>\n",
              "      <td>0</td>\n",
              "    </tr>\n",
              "    <tr>\n",
              "      <th>1</th>\n",
              "      <td>2</td>\n",
              "    </tr>\n",
              "    <tr>\n",
              "      <th>2</th>\n",
              "      <td>3</td>\n",
              "    </tr>\n",
              "    <tr>\n",
              "      <th>3</th>\n",
              "      <td>9</td>\n",
              "    </tr>\n",
              "    <tr>\n",
              "      <th>4</th>\n",
              "      <td>11</td>\n",
              "    </tr>\n",
              "    <tr>\n",
              "      <th>...</th>\n",
              "      <td>...</td>\n",
              "    </tr>\n",
              "    <tr>\n",
              "      <th>3258</th>\n",
              "      <td>10861</td>\n",
              "    </tr>\n",
              "    <tr>\n",
              "      <th>3259</th>\n",
              "      <td>10865</td>\n",
              "    </tr>\n",
              "    <tr>\n",
              "      <th>3260</th>\n",
              "      <td>10868</td>\n",
              "    </tr>\n",
              "    <tr>\n",
              "      <th>3261</th>\n",
              "      <td>10874</td>\n",
              "    </tr>\n",
              "    <tr>\n",
              "      <th>3262</th>\n",
              "      <td>10875</td>\n",
              "    </tr>\n",
              "  </tbody>\n",
              "</table>\n",
              "<p>3263 rows × 1 columns</p>\n",
              "</div>\n",
              "      <button class=\"colab-df-convert\" onclick=\"convertToInteractive('df-f3b5771f-0c3a-401c-82dd-21a35cf2f705')\"\n",
              "              title=\"Convert this dataframe to an interactive table.\"\n",
              "              style=\"display:none;\">\n",
              "        \n",
              "  <svg xmlns=\"http://www.w3.org/2000/svg\" height=\"24px\"viewBox=\"0 0 24 24\"\n",
              "       width=\"24px\">\n",
              "    <path d=\"M0 0h24v24H0V0z\" fill=\"none\"/>\n",
              "    <path d=\"M18.56 5.44l.94 2.06.94-2.06 2.06-.94-2.06-.94-.94-2.06-.94 2.06-2.06.94zm-11 1L8.5 8.5l.94-2.06 2.06-.94-2.06-.94L8.5 2.5l-.94 2.06-2.06.94zm10 10l.94 2.06.94-2.06 2.06-.94-2.06-.94-.94-2.06-.94 2.06-2.06.94z\"/><path d=\"M17.41 7.96l-1.37-1.37c-.4-.4-.92-.59-1.43-.59-.52 0-1.04.2-1.43.59L10.3 9.45l-7.72 7.72c-.78.78-.78 2.05 0 2.83L4 21.41c.39.39.9.59 1.41.59.51 0 1.02-.2 1.41-.59l7.78-7.78 2.81-2.81c.8-.78.8-2.07 0-2.86zM5.41 20L4 18.59l7.72-7.72 1.47 1.35L5.41 20z\"/>\n",
              "  </svg>\n",
              "      </button>\n",
              "      \n",
              "  <style>\n",
              "    .colab-df-container {\n",
              "      display:flex;\n",
              "      flex-wrap:wrap;\n",
              "      gap: 12px;\n",
              "    }\n",
              "\n",
              "    .colab-df-convert {\n",
              "      background-color: #E8F0FE;\n",
              "      border: none;\n",
              "      border-radius: 50%;\n",
              "      cursor: pointer;\n",
              "      display: none;\n",
              "      fill: #1967D2;\n",
              "      height: 32px;\n",
              "      padding: 0 0 0 0;\n",
              "      width: 32px;\n",
              "    }\n",
              "\n",
              "    .colab-df-convert:hover {\n",
              "      background-color: #E2EBFA;\n",
              "      box-shadow: 0px 1px 2px rgba(60, 64, 67, 0.3), 0px 1px 3px 1px rgba(60, 64, 67, 0.15);\n",
              "      fill: #174EA6;\n",
              "    }\n",
              "\n",
              "    [theme=dark] .colab-df-convert {\n",
              "      background-color: #3B4455;\n",
              "      fill: #D2E3FC;\n",
              "    }\n",
              "\n",
              "    [theme=dark] .colab-df-convert:hover {\n",
              "      background-color: #434B5C;\n",
              "      box-shadow: 0px 1px 3px 1px rgba(0, 0, 0, 0.15);\n",
              "      filter: drop-shadow(0px 1px 2px rgba(0, 0, 0, 0.3));\n",
              "      fill: #FFFFFF;\n",
              "    }\n",
              "  </style>\n",
              "\n",
              "      <script>\n",
              "        const buttonEl =\n",
              "          document.querySelector('#df-f3b5771f-0c3a-401c-82dd-21a35cf2f705 button.colab-df-convert');\n",
              "        buttonEl.style.display =\n",
              "          google.colab.kernel.accessAllowed ? 'block' : 'none';\n",
              "\n",
              "        async function convertToInteractive(key) {\n",
              "          const element = document.querySelector('#df-f3b5771f-0c3a-401c-82dd-21a35cf2f705');\n",
              "          const dataTable =\n",
              "            await google.colab.kernel.invokeFunction('convertToInteractive',\n",
              "                                                     [key], {});\n",
              "          if (!dataTable) return;\n",
              "\n",
              "          const docLinkHtml = 'Like what you see? Visit the ' +\n",
              "            '<a target=\"_blank\" href=https://colab.research.google.com/notebooks/data_table.ipynb>data table notebook</a>'\n",
              "            + ' to learn more about interactive tables.';\n",
              "          element.innerHTML = '';\n",
              "          dataTable['output_type'] = 'display_data';\n",
              "          await google.colab.output.renderOutput(dataTable, element);\n",
              "          const docLink = document.createElement('div');\n",
              "          docLink.innerHTML = docLinkHtml;\n",
              "          element.appendChild(docLink);\n",
              "        }\n",
              "      </script>\n",
              "    </div>\n",
              "  </div>\n",
              "  "
            ]
          },
          "metadata": {},
          "execution_count": 18
        }
      ],
      "source": [
        "submission = data_test[['id']]\n",
        "submission"
      ]
    },
    {
      "cell_type": "code",
      "execution_count": null,
      "metadata": {
        "id": "7JhEgFM3RSBk"
      },
      "outputs": [],
      "source": [
        "submission['target'] = predictions"
      ]
    },
    {
      "cell_type": "code",
      "execution_count": null,
      "metadata": {
        "id": "M2KwwotvRSbZ"
      },
      "outputs": [],
      "source": [
        "submission.to_csv(\"submission.csv\",index=None)"
      ]
    }
  ],
  "metadata": {
    "colab": {
      "collapsed_sections": [],
      "name": "Natural Language Processing with Disaster Tweets",
      "provenance": [],
      "include_colab_link": true
    },
    "kernelspec": {
      "display_name": "Python 3",
      "name": "python3"
    },
    "language_info": {
      "name": "python"
    }
  },
  "nbformat": 4,
  "nbformat_minor": 0
}